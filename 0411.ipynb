{
  "nbformat": 4,
  "nbformat_minor": 0,
  "metadata": {
    "colab": {
      "name": "0411.ipynb",
      "provenance": [],
      "collapsed_sections": [],
      "authorship_tag": "ABX9TyMt+pe+ZtwdzQO9bLlMCA45",
      "include_colab_link": true
    },
    "kernelspec": {
      "name": "python3",
      "display_name": "Python 3"
    },
    "language_info": {
      "name": "python"
    }
  },
  "cells": [
    {
      "cell_type": "markdown",
      "metadata": {
        "id": "view-in-github",
        "colab_type": "text"
      },
      "source": [
        "<a href=\"https://colab.research.google.com/github/wurueixiang/introduction-to-computers/blob/main/0411.ipynb\" target=\"_parent\"><img src=\"https://colab.research.google.com/assets/colab-badge.svg\" alt=\"Open In Colab\"/></a>"
      ]
    },
    {
      "cell_type": "code",
      "execution_count": null,
      "metadata": {
        "colab": {
          "base_uri": "https://localhost:8080/"
        },
        "id": "E6nVABMr_Xut",
        "outputId": "5862c9d7-00ba-4ca1-9763-1ed124307882"
      },
      "outputs": [
        {
          "output_type": "execute_result",
          "data": {
            "text/plain": [
              "15"
            ]
          },
          "metadata": {},
          "execution_count": 1
        }
      ],
      "source": [
        "i=10\n",
        "i+=5\n",
        "i"
      ]
    },
    {
      "cell_type": "code",
      "source": [
        "i=10\n",
        "i-=5\n",
        "i"
      ],
      "metadata": {
        "colab": {
          "base_uri": "https://localhost:8080/"
        },
        "id": "n4K9wTA2_71i",
        "outputId": "6f034c7d-096d-475b-dc22-9e5ba91d5d49"
      },
      "execution_count": null,
      "outputs": [
        {
          "output_type": "execute_result",
          "data": {
            "text/plain": [
              "5"
            ]
          },
          "metadata": {},
          "execution_count": 2
        }
      ]
    },
    {
      "cell_type": "code",
      "source": [
        "i=10\n",
        "i*=5\n",
        "i"
      ],
      "metadata": {
        "colab": {
          "base_uri": "https://localhost:8080/"
        },
        "id": "ahrql2aP_78n",
        "outputId": "c0dc70f5-3f79-47be-8651-f67a005c0003"
      },
      "execution_count": null,
      "outputs": [
        {
          "output_type": "execute_result",
          "data": {
            "text/plain": [
              "50"
            ]
          },
          "metadata": {},
          "execution_count": 3
        }
      ]
    },
    {
      "cell_type": "code",
      "source": [
        "deposit= int(input('請輸入本金存金額:'))\n",
        "years = 1.02**6\n",
        "deposit *=years\n",
        "print('6年後存款為:' + str(deposit))"
      ],
      "metadata": {
        "id": "0IL7TU2I_7_L"
      },
      "execution_count": null,
      "outputs": []
    },
    {
      "cell_type": "code",
      "source": [
        "pw = input('請輸入密碼')\n",
        "if (pw == '1234'):\n",
        "  print('歡迎光臨!')\n",
        "else:\n",
        "  print('密碼錯誤!')"
      ],
      "metadata": {
        "id": "XYWxxNEj_8Bv"
      },
      "execution_count": null,
      "outputs": []
    },
    {
      "cell_type": "code",
      "source": [
        "rain = input('今天會下雨嗎?')\n",
        "if (rain ==\"Y\" or rain== \"y\"):\n",
        "  print('出門記得帶傘!')\n",
        "else:\n",
        "  print('不用帶傘')"
      ],
      "metadata": {
        "id": "YQ4F525i_8D7"
      },
      "execution_count": null,
      "outputs": []
    },
    {
      "cell_type": "code",
      "source": [
        "num = int(input(\"請輸入一個數字:\"))\n",
        "if (num % 2) ==0:\n",
        "  print(\"是偶數\")\n",
        "else:\n",
        "  print(\"是奇數\")"
      ],
      "metadata": {
        "id": "CokRBv-C_8Gl",
        "colab": {
          "base_uri": "https://localhost:8080/"
        },
        "outputId": "9847dad1-9899-4122-c545-3d77727b24c4"
      },
      "execution_count": null,
      "outputs": [
        {
          "output_type": "stream",
          "name": "stdout",
          "text": [
            "請輸入一個數字:5\n",
            "是奇數\n"
          ]
        }
      ]
    }
  ]
}