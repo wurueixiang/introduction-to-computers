{
  "nbformat": 4,
  "nbformat_minor": 0,
  "metadata": {
    "colab": {
      "name": "0509.ipynb",
      "provenance": [],
      "collapsed_sections": [],
      "authorship_tag": "ABX9TyN2HxWsmDdIApupA8L/aWA6",
      "include_colab_link": true
    },
    "kernelspec": {
      "name": "python3",
      "display_name": "Python 3"
    },
    "language_info": {
      "name": "python"
    }
  },
  "cells": [
    {
      "cell_type": "markdown",
      "metadata": {
        "id": "view-in-github",
        "colab_type": "text"
      },
      "source": [
        "<a href=\"https://colab.research.google.com/github/wurueixiang/introduction-to-computers/blob/main/0509.ipynb\" target=\"_parent\"><img src=\"https://colab.research.google.com/assets/colab-badge.svg\" alt=\"Open In Colab\"/></a>"
      ]
    },
    {
      "cell_type": "code",
      "execution_count": null,
      "metadata": {
        "colab": {
          "base_uri": "https://localhost:8080/"
        },
        "id": "S6C9aTkK7k9-",
        "outputId": "eaae7fbd-0ff6-4b1d-cbd6-f75b49075e6d"
      },
      "outputs": [
        {
          "output_type": "stream",
          "name": "stdout",
          "text": [
            "請輸入你的體溫30\n",
            "體溫異常，請重新量測!\n"
          ]
        }
      ],
      "source": [
        "temp= float(input(\"請輸入你的體溫\"))\n",
        "if temp>=37.5:\n",
        "  print(\"體溫過高!\")\n",
        "elif temp>=37 and temp<=37.4:\n",
        "  print(\"體溫略高!\")\n",
        "elif temp>=34 and temp<=36.9:\n",
        "  print(\"體溫正常!\")\n",
        "else:\n",
        "  print(\"體溫異常，請重新量測!\")"
      ]
    },
    {
      "cell_type": "code",
      "source": [
        "grade= int(input(\"請輸入你的成績\"))\n",
        "if grade>=90:\n",
        "  print(\"A\")\n",
        "elif grade>=80 and grade<=89:\n",
        "  print(\"B\")\n",
        "elif grade>=70 and grade<=79:\n",
        "  print(\"C\")\n",
        "elif grade>=60 and grade<=69:\n",
        "  print(\"D\")\n",
        "else:\n",
        "  print(\"E\")"
      ],
      "metadata": {
        "colab": {
          "base_uri": "https://localhost:8080/"
        },
        "id": "186WYjHw_myC",
        "outputId": "d469ce36-aeb6-415a-eefa-0b9b3ee35d0b"
      },
      "execution_count": null,
      "outputs": [
        {
          "output_type": "stream",
          "name": "stdout",
          "text": [
            "請輸入你的成績80\n",
            "B\n"
          ]
        }
      ]
    },
    {
      "cell_type": "code",
      "source": [
        "score= input(\"請輸入成績\")\n",
        "if (int(score)>=90):\n",
        "  print(\"A\")\n",
        "elif (int(score)>=80):\n",
        "  print(\"B\")\n",
        "elif (int(score)>=70):\n",
        "  print(\"C\")\n",
        "elif (int(score)>=60):\n",
        "  print(\"D\")\n",
        "else:\n",
        "  print(\"E\")"
      ],
      "metadata": {
        "colab": {
          "base_uri": "https://localhost:8080/"
        },
        "id": "AA-psMYVERq0",
        "outputId": "0a60bfd5-28b6-4a52-f7fa-84b3cbe863e3"
      },
      "execution_count": null,
      "outputs": [
        {
          "output_type": "stream",
          "name": "stdout",
          "text": [
            "請輸入成績85\n",
            "B\n"
          ]
        }
      ]
    },
    {
      "cell_type": "code",
      "source": [
        "money = int(input(\"請輸入夠五金額:\"))\n",
        "if (money>=10000):\n",
        "   if(money>=100000):\n",
        "     print(\"八折\",money*0.8, end = \"元\\n\")\n",
        "   elif(money>=50000):\n",
        "     print(\"八五折\",money*0.85, end = \"元\\n\")\n",
        "   elif(money>=30000):\n",
        "     print(\"九折\",money*0.9, end = \"元\\n\")\n",
        "   else:\n",
        "     print(\"九五折\",money*0.95, end = \"元\\n\")\n",
        "else:\n",
        "  print(\"沒打折\",money, end= \"元\\n\")"
      ],
      "metadata": {
        "colab": {
          "base_uri": "https://localhost:8080/"
        },
        "id": "05d08G_hGtHu",
        "outputId": "ff3069e6-fba1-426d-a258-f3f51de1474b"
      },
      "execution_count": null,
      "outputs": [
        {
          "output_type": "stream",
          "name": "stdout",
          "text": [
            "請輸入夠五金額:5000\n",
            "沒打折 5000元\n"
          ]
        }
      ]
    },
    {
      "cell_type": "code",
      "source": [
        "month= int(input(\"請輸入月份:\"))\n",
        "if(month>=1)and month<=12: \n",
        " if month>=3 and month<=5:\n",
        "  print(month,\"月是春天!\")\n",
        " elif month>=6 and month<=8:\n",
        "  print(month,\"月是夏天!\")\n",
        " elif month>=9 and month<=11:\n",
        "  print(month,\"月是秋天!\")\n",
        " else:\n",
        "  print(month,\"月是冬天!\")\n",
        "else:\n",
        "  print(\"月份不在範圍內!\")"
      ],
      "metadata": {
        "colab": {
          "base_uri": "https://localhost:8080/"
        },
        "id": "f65Jh18YJDN3",
        "outputId": "684a4c85-3ded-45d1-d9e6-4b7390184475"
      },
      "execution_count": null,
      "outputs": [
        {
          "output_type": "stream",
          "name": "stdout",
          "text": [
            "請輸入月份:13\n",
            "月份不在範圍內!\n"
          ]
        }
      ]
    },
    {
      "cell_type": "code",
      "source": [
        "revenue= int(input(\"請輸入今年收入淨額:\"))\n",
        "if (revenue>100000):\n",
        " if revenue>=2000000:\n",
        "  print(\"付稅金額\", revenue*0.3, end = \"元\\n\")\n",
        " elif revenue>=1000000:\n",
        "  print(\"付稅金額\", revenue*0.21, end = \"元\\n\")\n",
        " elif revenue>=600000:\n",
        "  print(\"付稅金額\", revenue*0.13, end = \"元\\n\")\n",
        " elif revenue>=300000:\n",
        "  print(\"付稅金額\", revenue*0.06, end = \"元\\n\")\n",
        "else:\n",
        "  print(\"不用收稅\")"
      ],
      "metadata": {
        "colab": {
          "base_uri": "https://localhost:8080/"
        },
        "id": "3z7sG9g8MV5N",
        "outputId": "d4ffb2da-3673-4547-fc69-63115b551ccc"
      },
      "execution_count": null,
      "outputs": [
        {
          "output_type": "stream",
          "name": "stdout",
          "text": [
            "請輸入今年收入淨額:2000000\n",
            "付稅金額 600000.0元\n"
          ]
        }
      ]
    }
  ]
}